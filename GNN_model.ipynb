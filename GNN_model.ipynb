{
 "cells": [
  {
   "cell_type": "markdown",
   "id": "0887bff3-e1d6-4dec-b477-5e9f4fae03b6",
   "metadata": {},
   "source": [
    "# 1.Import package"
   ]
  },
  {
   "cell_type": "code",
   "execution_count": 1,
   "id": "d54acb57-8d91-4747-9659-9aef370699e0",
   "metadata": {
    "tags": []
   },
   "outputs": [
    {
     "name": "stderr",
     "output_type": "stream",
     "text": [
      "Skipped loading some Tensorflow models, missing a dependency. No module named 'tensorflow'\n",
      "Skipped loading modules with pytorch-lightning dependency, missing a dependency. No module named 'pytorch_lightning'\n",
      "Skipped loading some Jax models, missing a dependency. No module named 'jax'\n"
     ]
    }
   ],
   "source": [
    "import pandas as pd\n",
    "import numpy as np\n",
    "from sklearn.model_selection import train_test_split\n",
    "import matplotlib.pyplot as plt\n",
    "from tqdm import tqdm\n",
    "import seaborn as sns\n",
    "import os\n",
    "import matplotlib.pyplot as plt\n",
    "import seaborn as sns\n",
    "from tqdm import tqdm\n",
    "import torch\n",
    "import torch_geometric\n",
    "from torch_geometric.data import Dataset, Data, DataLoader\n",
    "import torch.nn.functional as F\n",
    "from torch.nn import Linear\n",
    "import torch.nn as nn\n",
    "from torch.nn import BatchNorm1d\n",
    "from torch.utils.data import Dataset\n",
    "from torch_geometric.nn import GCNConv\n",
    "from torch_geometric.nn import ChebConv\n",
    "from torch_geometric.nn import global_add_pool, global_mean_pool\n",
    "from torch_geometric.data import DataLoader\n",
    "from torch_scatter import scatter_mean\n",
    "from torch.optim.lr_scheduler import ReduceLROnPlateau\n",
    "import deepchem as dc\n",
    "from rdkit.Chem.Draw import IPythonConsole\n",
    "from rdkit.Chem import Draw\n",
    "from sklearn.metrics import classification_report, roc_auc_score, average_precision_score, confusion_matrix, roc_curve, precision_recall_curve"
   ]
  },
  {
   "cell_type": "markdown",
   "id": "78aba0d6-3c2a-4e42-8181-8a54c3fcb063",
   "metadata": {},
   "source": [
    "# 2. Data processing"
   ]
  },
  {
   "cell_type": "code",
   "execution_count": 2,
   "id": "1edd1cbe-ee3d-49e6-9688-661798af76c6",
   "metadata": {
    "tags": []
   },
   "outputs": [
    {
     "name": "stdout",
     "output_type": "stream",
     "text": [
      "Torch version: 2.0.0.dev20230215+rocm5.3\n",
      "Cuda available: True\n",
      "Torch geometric version: 2.3.0\n"
     ]
    },
    {
     "data": {
      "text/html": [
       "<div>\n",
       "<style scoped>\n",
       "    .dataframe tbody tr th:only-of-type {\n",
       "        vertical-align: middle;\n",
       "    }\n",
       "\n",
       "    .dataframe tbody tr th {\n",
       "        vertical-align: top;\n",
       "    }\n",
       "\n",
       "    .dataframe thead th {\n",
       "        text-align: right;\n",
       "    }\n",
       "</style>\n",
       "<table border=\"1\" class=\"dataframe\">\n",
       "  <thead>\n",
       "    <tr style=\"text-align: right;\">\n",
       "      <th></th>\n",
       "      <th>pChEMBL</th>\n",
       "      <th>Canomicalsmiles</th>\n",
       "      <th>ID</th>\n",
       "    </tr>\n",
       "  </thead>\n",
       "  <tbody>\n",
       "    <tr>\n",
       "      <th>0</th>\n",
       "      <td>10.000000</td>\n",
       "      <td>CCc1cc2c(=O)c3c4ccc(C#N)cc4[nH]c3n(C(C)C)c2cc1...</td>\n",
       "      <td>0</td>\n",
       "    </tr>\n",
       "    <tr>\n",
       "      <th>1</th>\n",
       "      <td>9.958607</td>\n",
       "      <td>CCc1cc2c(=O)c3c4ccc(C#N)cc4[nH]c3n(C(C)C)c2cc1...</td>\n",
       "      <td>1</td>\n",
       "    </tr>\n",
       "  </tbody>\n",
       "</table>\n",
       "</div>"
      ],
      "text/plain": [
       "     pChEMBL                                    Canomicalsmiles ID\n",
       "0  10.000000  CCc1cc2c(=O)c3c4ccc(C#N)cc4[nH]c3n(C(C)C)c2cc1...  0\n",
       "1   9.958607  CCc1cc2c(=O)c3c4ccc(C#N)cc4[nH]c3n(C(C)C)c2cc1...  1"
      ]
     },
     "execution_count": 2,
     "metadata": {},
     "output_type": "execute_result"
    }
   ],
   "source": [
    "import sys\n",
    "import pandas as pd\n",
    "sys.path.append('GNN_dev')\n",
    "from Preprocessor import data_preprocessing\n",
    "from Featurizer import MoleculeDataset\n",
    "data_dir = '/home/labhhc/Documents/Workspace/Publication/Y2023/Conference/KSE-BCB2023-GNN-ALK/Data'\n",
    "raw_dir = data_dir +'/raw'\n",
    "df = pd.read_csv(f'{data_dir}/Data.csv', index_col=0)\n",
    "df['ID'] = df.index.astype('object')\n",
    "df.head(2)"
   ]
  },
  {
   "cell_type": "code",
   "execution_count": 3,
   "id": "3b6bd813-1dff-42e0-ba82-440c88498560",
   "metadata": {
    "tags": []
   },
   "outputs": [
    {
     "data": {
      "text/html": [
       "<div>\n",
       "<style scoped>\n",
       "    .dataframe tbody tr th:only-of-type {\n",
       "        vertical-align: middle;\n",
       "    }\n",
       "\n",
       "    .dataframe tbody tr th {\n",
       "        vertical-align: top;\n",
       "    }\n",
       "\n",
       "    .dataframe thead th {\n",
       "        text-align: right;\n",
       "    }\n",
       "</style>\n",
       "<table border=\"1\" class=\"dataframe\">\n",
       "  <thead>\n",
       "    <tr style=\"text-align: right;\">\n",
       "      <th></th>\n",
       "      <th>ID</th>\n",
       "      <th>Canomicalsmiles</th>\n",
       "      <th>pChEMBL</th>\n",
       "    </tr>\n",
       "  </thead>\n",
       "  <tbody>\n",
       "    <tr>\n",
       "      <th>0</th>\n",
       "      <td>635</td>\n",
       "      <td>COc1cccc(CNC(=O)c2csc(CNC(=O)c3cccnc3Oc3ccc(Cl...</td>\n",
       "      <td>0</td>\n",
       "    </tr>\n",
       "    <tr>\n",
       "      <th>1</th>\n",
       "      <td>1319</td>\n",
       "      <td>COc1cc(N2CCN(C)CC2)ccc1Nc1ncc(Cl)c(Nc2ccccc2S(...</td>\n",
       "      <td>0</td>\n",
       "    </tr>\n",
       "    <tr>\n",
       "      <th>2</th>\n",
       "      <td>651</td>\n",
       "      <td>Cc1onc(-c2ccccc2)c1CNC(=O)c1csc(CNC(=O)COc2ccc...</td>\n",
       "      <td>0</td>\n",
       "    </tr>\n",
       "    <tr>\n",
       "      <th>3</th>\n",
       "      <td>542</td>\n",
       "      <td>O=C(COc1ccc(OC(F)(F)F)cc1)NCc1nc(C(=O)NCCc2ccc...</td>\n",
       "      <td>0</td>\n",
       "    </tr>\n",
       "    <tr>\n",
       "      <th>4</th>\n",
       "      <td>1419</td>\n",
       "      <td>COc1ccc(Nc2ccnc(Nc3ccc(OC)c(OCCN4CCCC4)c3)n2)c...</td>\n",
       "      <td>0</td>\n",
       "    </tr>\n",
       "  </tbody>\n",
       "</table>\n",
       "</div>"
      ],
      "text/plain": [
       "     ID                                    Canomicalsmiles  pChEMBL\n",
       "0   635  COc1cccc(CNC(=O)c2csc(CNC(=O)c3cccnc3Oc3ccc(Cl...        0\n",
       "1  1319  COc1cc(N2CCN(C)CC2)ccc1Nc1ncc(Cl)c(Nc2ccccc2S(...        0\n",
       "2   651  Cc1onc(-c2ccccc2)c1CNC(=O)c1csc(CNC(=O)COc2ccc...        0\n",
       "3   542  O=C(COc1ccc(OC(F)(F)F)cc1)NCc1nc(C(=O)NCCc2ccc...        0\n",
       "4  1419  COc1ccc(Nc2ccnc(Nc3ccc(OC)c(OCCN4CCCC4)c3)n2)c...        0"
      ]
     },
     "execution_count": 3,
     "metadata": {},
     "output_type": "execute_result"
    }
   ],
   "source": [
    "## Processing\n",
    "process = data_preprocessing(data=df, smiles_col='Canomicalsmiles', ID_col='ID', \n",
    "                             target_col='pChEMBL', thresh=7, raw_dir = raw_dir)\n",
    "process.fit()\n",
    "process.data_train.head()"
   ]
  },
  {
   "cell_type": "code",
   "execution_count": 4,
   "id": "abff3ab8-2ae5-43f7-a9e5-e85ccf052bf6",
   "metadata": {
    "tags": []
   },
   "outputs": [],
   "source": [
    "# Featurizer\n",
    "train_dataset = MoleculeDataset(root = data_dir,\n",
    "                                filename = \"train.csv\")\n",
    "test_dataset = MoleculeDataset(root = data_dir,\n",
    "                                filename = \"test.csv\", test = True)\n",
    "\n",
    "valid_dataset = MoleculeDataset(root = data_dir,\n",
    "                                filename = \"valid.csv\", valid = True)"
   ]
  },
  {
   "cell_type": "markdown",
   "id": "afe50682-d83d-4938-a629-e89c5f25a1f3",
   "metadata": {},
   "source": [
    "# 3. Training"
   ]
  },
  {
   "cell_type": "code",
   "execution_count": 5,
   "id": "7a13f3b7-e383-4971-b4f2-c8a08531d153",
   "metadata": {
    "tags": []
   },
   "outputs": [
    {
     "name": "stderr",
     "output_type": "stream",
     "text": [
      "/home/labhhc/anaconda3/envs/PyG_gpu/lib/python3.10/site-packages/tqdm/auto.py:22: TqdmWarning: IProgress not found. Please update jupyter and ipywidgets. See https://ipywidgets.readthedocs.io/en/stable/user_install.html\n",
      "  from .autonotebook import tqdm as notebook_tqdm\n"
     ]
    }
   ],
   "source": [
    "from model_seed import seed_everything\n",
    "from GNN_architecture import GNN\n",
    "from TPE_optimize import suggest_hyperparameters, count_parameters, save_model, objective\n",
    "seed_everything(42)\n",
    "def Object(trial):\n",
    "    objective(trial=trial,train_dataset=train_dataset, valid_dataset =valid_dataset, epochs =20)"
   ]
  },
  {
   "cell_type": "code",
   "execution_count": null,
   "id": "2382887d-5878-4653-b1c9-10d4f976c925",
   "metadata": {},
   "outputs": [],
   "source": [
    "import optuna\n",
    "from optuna.samplers import TPESampler\n",
    "from optuna.trial import TrialState\n",
    "#if __name__ == \"__main__\":\n",
    "seed_everything(42)\n",
    "sampler = TPESampler(seed = 42)\n",
    "pruner = optuna.pruners.MedianPruner(\n",
    "        n_startup_trials=5, n_warmup_steps=30, interval_steps=20)\n",
    "study = optuna.create_study(direction=\"minimize\",pruner = pruner,sampler=sampler)\n",
    "\n",
    "\n",
    "#study.optimize(objective, n_trials=2)\n",
    "study.optimize(Object, n_trials=2)\n",
    "pruned_trials = study.get_trials(deepcopy=False, states=[TrialState.PRUNED])\n",
    "complete_trials = study.get_trials(deepcopy=False, states=[TrialState.COMPLETE])\n",
    "print(\"Study statistics: \")\n",
    "print(\"  Number of finished trials: \", len(study.trials))\n",
    "print(\"  Number of pruned trials: \", len(pruned_trials))\n",
    "print(\"  Number of complete trials: \", len(complete_trials))\n",
    "\n",
    "print(\"Best trial:\")\n",
    "trial = study.best_trial\n",
    "\n",
    "print(\"  Value: \", trial.value)\n",
    "                                                                                                                                                                                                                                                                                                                                                                                                                                                                                                                                                                                                                                                                                                                                                                                                                                                                                                                                                                                                                                                                                                                                                                                                                                                                                                                                                                                                                                                                                                                                                                                                                                                                                                                                                                                                                                                                                                                                                                                                                                                                                                                                                                                                                                                                                                                                                                                                                                                                                                                                                                                                                                                                                                                                                                                                                                                                                                                                                                                                                                                                                                                                                                                                                                                                                                                                                                                                                                                                                                                                                                                                                                                                                                                                                                                                                                                                                                                                                                                                                                                                                                                                                                                                                                                                                                                                                                                                                                                                                                                                                            \n",
    "print(\"  Params: \")\n",
    "for key, value in trial.params.items():\n",
    "    print(\"    {}: {}\".format(key, value))"
   ]
  },
  {
   "cell_type": "markdown",
   "id": "488b9440-61cb-45ca-896c-f10dc560da12",
   "metadata": {},
   "source": [
    "# 4. Validation"
   ]
  },
  {
   "cell_type": "code",
   "execution_count": 6,
   "id": "cdce7826-90b2-430b-9fd4-caa9b7edf8c4",
   "metadata": {
    "tags": []
   },
   "outputs": [],
   "source": [
    "from sklearn.metrics import f1_score, average_precision_score\n",
    "import mlflow.pytorch\n",
    "from mlflow.models.signature import ModelSignature\n",
    "from mlflow.types.schema import Schema, TensorSpec\n",
    "import json\n",
    "with open('Model/params.json','r') as f:\n",
    "    best_params =  json.load(f)\n",
    "model_path = './Model/GNN19.pth'"
   ]
  },
  {
   "cell_type": "markdown",
   "id": "cc34a17b-4e40-4175-bba8-55d93d9772b3",
   "metadata": {},
   "source": [
    "## 4.1. Internal validation"
   ]
  },
  {
   "cell_type": "code",
   "execution_count": 7,
   "id": "3368f9f7-05d5-448b-ba86-f790426624da",
   "metadata": {
    "tags": []
   },
   "outputs": [],
   "source": [
    "X_train = process.data_train.drop(['pChEMBL'], axis =1)\n",
    "y_train = process.data_train['pChEMBL']"
   ]
  },
  {
   "cell_type": "code",
   "execution_count": 8,
   "id": "06858039-eb60-4061-8d39-e3ec6453ca17",
   "metadata": {
    "tags": []
   },
   "outputs": [
    {
     "name": "stderr",
     "output_type": "stream",
     "text": [
      "0it [00:08, ?it/s]\n",
      "\n",
      "KeyboardInterrupt\n",
      "\n"
     ]
    }
   ],
   "source": [
    "from cross_validation import cross_val_score\n",
    "record = cross_val_score(train_dataset, X_train, y_train, best_params)"
   ]
  },
  {
   "cell_type": "markdown",
   "id": "ac82da5c-5c1a-4347-bf15-e9aa1bc2dc25",
   "metadata": {},
   "source": [
    "## 4.2. External validation"
   ]
  },
  {
   "cell_type": "code",
   "execution_count": 8,
   "id": "61e5ced6-82f5-46c3-b84b-82ee05a030ce",
   "metadata": {
    "tags": []
   },
   "outputs": [
    {
     "name": "stdout",
     "output_type": "stream",
     "text": [
      "              precision    recall  f1-score   support\n",
      "\n",
      "           0       0.94      0.95      0.95       237\n",
      "           1       0.87      0.85      0.86        96\n",
      "\n",
      "    accuracy                           0.92       333\n",
      "   macro avg       0.91      0.90      0.90       333\n",
      "weighted avg       0.92      0.92      0.92       333\n",
      "\n",
      "0.8631578947368421\n",
      "0.938043433027809\n"
     ]
    }
   ],
   "source": [
    "device = 'cpu'\n",
    "model = GNN(feature_size = 30, model_params = best_params).to(device)\n",
    "checkpoint = torch.load(model_path)\n",
    "model.load_state_dict(checkpoint['model_state_dict'])\n",
    "model.eval()\n",
    "params = best_params\n",
    "all_labels_ex = []\n",
    "probas_val_ex = []\n",
    "all_probas_ex = []\n",
    "all_preds_ex = []\n",
    "test_loader = DataLoader(test_dataset, batch_size=64, shuffle=True)\n",
    "with torch.no_grad():\n",
    "    for _, batch in enumerate(test_loader):\n",
    "        batch.to(device)\n",
    "        output_ex = model(batch.node_features.float(),batch.edge_attr.float(),\n",
    "                           batch.edge_index,batch.batch,params).to(device)\n",
    "\n",
    "        all_probas_ex.append(torch.sigmoid(output_ex).cpu().detach().numpy())\n",
    "        all_preds_ex.append(np.rint(torch.sigmoid(output_ex).cpu().detach().numpy()))\n",
    "        all_labels_ex.append(batch.y.cpu().detach().numpy())\n",
    "\n",
    "all_preds_ex = np.concatenate(all_preds_ex).ravel()\n",
    "all_labels_ex = np.concatenate(all_labels_ex).ravel()\n",
    "all_probas_ex = np.concatenate(all_probas_ex).ravel()        \n",
    "#loss_val = validation_loss/len(valid_loader)\n",
    "f1_ex = f1_score(all_labels_ex,all_preds_ex)\n",
    "ap_ex = average_precision_score(all_labels_ex,all_probas_ex)\n",
    "mlflow.log_metric(key=\"f1-ex\", value=float(f1_ex))\n",
    "mlflow.log_metric(key=\"AP-ex\", value=float(ap_ex))\n",
    "\n",
    "print(classification_report(all_labels_ex,all_preds_ex))\n",
    "print(f1_score(all_labels_ex,all_preds_ex))\n",
    "print(average_precision_score(all_labels_ex,all_probas_ex))"
   ]
  },
  {
   "cell_type": "code",
   "execution_count": null,
   "id": "2700c3b2-8339-481f-afbb-9917efb33f9b",
   "metadata": {},
   "outputs": [],
   "source": []
  }
 ],
 "metadata": {
  "kernelspec": {
   "display_name": "Python 3 (ipykernel)",
   "language": "python",
   "name": "python3"
  },
  "language_info": {
   "codemirror_mode": {
    "name": "ipython",
    "version": 3
   },
   "file_extension": ".py",
   "mimetype": "text/x-python",
   "name": "python",
   "nbconvert_exporter": "python",
   "pygments_lexer": "ipython3",
   "version": "3.10.9"
  }
 },
 "nbformat": 4,
 "nbformat_minor": 5
}
